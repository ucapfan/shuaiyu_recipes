{
 "cells": [
  {
   "cell_type": "markdown",
   "metadata": {},
   "source": [
    "# Assignment 2\n",
    "## Question 1: OpenCL CSR matrix-vector product\n",
    "\n",
    "**Given a sparse matrix in CSR format. Develop a class that derives from Scipy LinearOperator and which is initialised with data, indices, and indptr array that describe the sparse matrix. The class shall provide an efficient OpenCL accelerated matrix-vector product.**"
   ]
  },
  {
   "cell_type": "code",
   "execution_count": 33,
   "metadata": {},
   "outputs": [],
   "source": [
    "%matplotlib inline\n",
    "import numpy as np\n",
    "import pyopencl as cl\n",
    "import matplotlib.pyplot as plt"
   ]
  },
  {
   "cell_type": "markdown",
   "metadata": {},
   "source": [
    "**Ordinary sparse matrix multiplication:**\n",
    "\n",
    "In LinearOperator, you only need to implement sparse matrix multiplication by vector to automatically implement sparse matrix multiplication by matrix.\n",
    "\n",
    "The sparse matrix is multiplied by the v vector to obtain a vector res. The i-th element in the vector res is equal to the dot product of the i-th row and the v-vector of the sparse matrix.\n",
    "\n",
    "**The process of finding the dot product:**\n",
    "\n",
    "Multiply only the non-zero elements of the sparse matrix with the elements of the corresponding v-vector."
   ]
  },
  {
   "cell_type": "code",
   "execution_count": 34,
   "metadata": {},
   "outputs": [],
   "source": [
    "from scipy.sparse import csr_matrix, eye\n",
    "from scipy.sparse.linalg import LinearOperator, cg"
   ]
  },
  {
   "cell_type": "markdown",
   "metadata": {},
   "source": [
    "### In this cell, we create a class that inherits LinearOperator and implement matrix multiplication of sparse matrices, but does not use OpenCL to accelerate.\n",
    "\n",
    "        \n",
    "* Find the i-th element of the result vector.\n",
    "* From indptr[i] to indptr[i+1] is the index range of all non-zero elements in the i-th row of the sparse matrix in the data vector.\n",
    "* The indices[indptr[i]] and the indices[indptr[i+1]] are the column indices corresponding to the non-zero elements of the i-th row, and are also the indices of the corresponding elements in the x-multiplication vector.\n",
    "* Implement matrix multiplication (np.dot): Find the dot product."
   ]
  },
  {
   "cell_type": "code",
   "execution_count": 35,
   "metadata": {},
   "outputs": [],
   "source": [
    "class SparseMatrixLinearOperator(LinearOperator):\n",
    "    def __init__(self, data, indices, indptr):\n",
    "        self.data = data\n",
    "        self.indices = indices\n",
    "        self.indptr = indptr\n",
    "        self.csr = csr_matrix((data, indices, indptr))\n",
    "        self.shape = self.csr.shape\n",
    "\n",
    "    def _matvec(self, x):\n",
    "        assert x.shape[0] == self.shape[1], \"dimension must match\"\n",
    "        y = np.zeros(x.shape[0], dtype=np.float32)\n",
    "\n",
    "        for i in range(self.shape[1]):\n",
    "            y[i] = np.dot(self.data[self.indptr[i]: self.indptr[i + 1]],\n",
    "                          x[self.indices[self.indptr[i]]: self.indptr[i + 1]])\n",
    "\n",
    "        return y"
   ]
  },
  {
   "cell_type": "markdown",
   "metadata": {},
   "source": [
    "### SparseMatrixLinearOperator Test 1"
   ]
  },
  {
   "cell_type": "code",
   "execution_count": 36,
   "metadata": {},
   "outputs": [],
   "source": [
    "n = 100000\n",
    "csr = eye((n), dtype=np.float32).tocsr()\n",
    "smlo = SparseMatrixLinearOperator(csr.data, csr.indices, csr.indptr)\n",
    "x = np.random.rand(n)"
   ]
  },
  {
   "cell_type": "markdown",
   "metadata": {},
   "source": [
    "### Run time test: \n",
    "\n",
    "Use the magic functions %%time and %%timeit in the notebook to test the running time of the code in the cell, where time test 1 time; timeit test multiple times, and then take the average.\n",
    "\n",
    "Smlo(x) means smlo * x, which is smlo.matvec(x) and calls the _matvec_ method written above."
   ]
  },
  {
   "cell_type": "code",
   "execution_count": 37,
   "metadata": {},
   "outputs": [
    {
     "name": "stdout",
     "output_type": "stream",
     "text": [
      "664 ms ± 40.5 ms per loop (mean ± std. dev. of 7 runs, 1 loop each)\n"
     ]
    }
   ],
   "source": [
    "%%timeit\n",
    "\n",
    "smlo(x)"
   ]
  },
  {
   "cell_type": "code",
   "execution_count": 38,
   "metadata": {},
   "outputs": [
    {
     "data": {
      "text/plain": [
       "array([0.5140028 , 0.6770125 , 0.36885238, ..., 0.04011555, 0.7034923 ,\n",
       "       0.7518228 ], dtype=float32)"
      ]
     },
     "execution_count": 38,
     "metadata": {},
     "output_type": "execute_result"
    }
   ],
   "source": [
    "smlo * x"
   ]
  },
  {
   "cell_type": "markdown",
   "metadata": {},
   "source": [
    "### In this cell, we create a class that uses OpenCL to accelerate.\n",
    "\n",
    "**Write core functions:**\n",
    "* Find the gid-th number in the result vector.\n",
    "* 'start' and 'end' are the positions of the non-zero elements of the gid-th line in the CSR matrix of data.\n",
    "* indices[i] is the column index corresponding to the element, and is also the corresponding index in the vector v."
   ]
  },
  {
   "cell_type": "code",
   "execution_count": 39,
   "metadata": {},
   "outputs": [],
   "source": [
    "class SparseMatrixLinearOperatorOpenCL(LinearOperator):\n",
    "    def __init__(self, data, indices, indptr):\n",
    "        self.data = data\n",
    "        self.indices = indices\n",
    "        self.indptr = indptr\n",
    "        self.csr = csr_matrix((data, indices, indptr))\n",
    "        self.shape = self.csr.shape\n",
    "\n",
    "    def _matvec(self, x):\n",
    "        assert x.shape[0] == self.shape[1], \"dimension must match\"\n",
    "        \n",
    "        # ctx = cl.create_some_context()\n",
    "        ctx = cl.Context(dev_type = cl.device_type.GPU)\n",
    "        queue = cl.CommandQueue(ctx, properties=cl.command_queue_properties.PROFILING_ENABLE)\n",
    "        mf = cl.mem_flags\n",
    "        \n",
    "        # Input data and convert to buffer in OpenCL  \n",
    "        data_g = cl.Buffer(ctx, mf.READ_ONLY | mf.COPY_HOST_PTR, hostbuf=self.data.astype(np.float32)) # float32\n",
    "        indices_g = cl.Buffer(ctx, mf.READ_ONLY | mf.COPY_HOST_PTR, hostbuf=self.indices)\n",
    "        indptr_g = cl.Buffer(ctx, mf.READ_ONLY | mf.COPY_HOST_PTR, hostbuf=self.indptr)\n",
    "        \n",
    "        # Core functions  \n",
    "        self.prg = cl.Program(ctx, \"\"\"\n",
    "        __kernel void matvec(__global const float *data, __global const int *indices, \\\n",
    "            __global const int *indptr, __global const float *x, __global float *y)\n",
    "        {\n",
    "            int gid = get_global_id(0);\n",
    "            int start = indptr[gid], end = indptr[gid + 1];\n",
    "            float tmp = 0.0;\n",
    "            for (int i = start; i < end; ++i) {\n",
    "                tmp += data[i] * x[indices[i]];\n",
    "            }\n",
    "            y[gid] = tmp;\n",
    "        }\n",
    "        \"\"\").build()\n",
    "\n",
    "        # Create Buffer  \n",
    "        x_g = cl.Buffer(ctx, mf.READ_ONLY | mf.COPY_HOST_PTR, hostbuf=x.astype(np.float32))\n",
    "        res = np.zeros_like(x, dtype=np.float32)\n",
    "        res_g = cl.Buffer(ctx, mf.WRITE_ONLY | mf.COPY_HOST_PTR, hostbuf=res)\n",
    "\n",
    "        # Run the OpenCL program  \n",
    "        self.prg.matvec(queue, x.shape, None, data_g, indices_g, indptr_g, x_g, res_g)\n",
    "        \n",
    "        # Copy the result to res  \n",
    "        cl.enqueue_copy(queue, res, res_g)\n",
    "        \n",
    "        return res"
   ]
  },
  {
   "cell_type": "markdown",
   "metadata": {},
   "source": [
    "### SparseMatrixLinearOperatorOpenCL Test 2"
   ]
  },
  {
   "cell_type": "code",
   "execution_count": 40,
   "metadata": {},
   "outputs": [],
   "source": [
    "n = 100000\n",
    "csr = eye((n), dtype=np.float32).tocsr()\n",
    "smloo = SparseMatrixLinearOperator(csr.data, csr.indices, csr.indptr)\n",
    "x = np.random.rand(n)"
   ]
  },
  {
   "cell_type": "markdown",
   "metadata": {},
   "source": [
    "### Run time test: The method using OpenCL is slightly faster"
   ]
  },
  {
   "cell_type": "code",
   "execution_count": 41,
   "metadata": {},
   "outputs": [
    {
     "name": "stdout",
     "output_type": "stream",
     "text": [
      "665 ms ± 118 ms per loop (mean ± std. dev. of 7 runs, 1 loop each)\n"
     ]
    }
   ],
   "source": [
    "%%timeit\n",
    "\n",
    "smloo(x)"
   ]
  },
  {
   "cell_type": "code",
   "execution_count": 42,
   "metadata": {},
   "outputs": [
    {
     "data": {
      "text/plain": [
       "array([7.4626768e-01, 7.2083455e-03, 5.7834829e-04, ..., 6.1834371e-01,\n",
       "       5.4235137e-01, 2.7389529e-01], dtype=float32)"
      ]
     },
     "execution_count": 42,
     "metadata": {},
     "output_type": "execute_result"
    }
   ],
   "source": [
    "smloo * x"
   ]
  },
  {
   "cell_type": "markdown",
   "metadata": {},
   "source": [
    "## Question 2: Potentials generated by random particles\n",
    "\n",
    "**We consider the Laplace equation on the unit square with zero conditions on the boundary. Develop a LinearOperator that takes a vector u of values on an M * M grid (xi,yj) for xi = i/M+1, j = 1,...,M and yi described in the same way, and returns the approximate evaluation of f for this vector.**"
   ]
  },
  {
   "cell_type": "markdown",
   "metadata": {},
   "source": [
    "### In this cell, we create a class that inherits LinearOperator and implement matrix multiplication of sparse matrices, and use OpenCL to accelerate.\n",
    "\n",
    "**Five-point stencil:**\n",
    "* In numerical analysis, given a square grid in one or two dimensions, the five-point stencil of a point in the grid is a stencil made up of the point itself together with its four \"neighbors\". Then we can use it to write finite difference approximations to derivatives at grid points.\n",
    "* Here, we use this stencil to approximate the Laplacian of a function of two variables, with the error in this approximation is O(h^2)\n",
    "\n",
    "**Write core functions:**\n",
    "* For each interior point, we have fi,j = (4ui,j-ui+1,j-ui-1,j-ui,j-1-ui,j+1)/h^2\n",
    "* But sometimes, when we calculate the 5 points stencil, there are some points lie outside the boundary of the grid we defined. So when we create the kernel in OpenCL, we need to determine whether there are points outside the grid. And if they are, we need to set these points to zero, which subject to boundary conditions."
   ]
  },
  {
   "cell_type": "code",
   "execution_count": 43,
   "metadata": {},
   "outputs": [],
   "source": [
    "# Define the class of StencilOperatorOpenCL, which implements the five point stencil\n",
    "class StencilOperatorOpenCL(LinearOperator):\n",
    "    \n",
    "    def __init__(self, m):\n",
    "        self.m = m\n",
    "        self.shape = (m * m, m * m)\n",
    "    \n",
    "    def _matvec(self, u):\n",
    "        \n",
    "        #Create a GPU specific context and command queue\n",
    "        # ctx = cl.create_some_context()\n",
    "        # ctx = cl.Context(dev_type = cl.device_type.GPU)\n",
    "        ctx = cl.Context(dev_type=cl.device_type.ALL, \\\n",
    "                         properties=[(cl.context_properties.PLATFORM, cl.get_platforms()[0])])\n",
    "        queue = cl.CommandQueue(ctx, properties=cl.command_queue_properties.PROFILING_ENABLE)\n",
    "        mf = cl.mem_flags\n",
    "        \n",
    "        # Core functions \n",
    "        self.prg = cl.Program(ctx, \"\"\"\n",
    "         __kernel void stencil(const int m, const float h, __global const float *u, __global float *v)\n",
    "        {\n",
    "            int i = get_global_id(0);\n",
    "            int j = get_global_id(1);\n",
    "        \n",
    "            v[i * m + j] = 4 * u[i * m + j] - ((i - 1) < 0 ? 0 : u[(i - 1) * m + j]) - \\\n",
    "                ((i + 1) > (m - 1) ? 0 : u[(i + 1) * m + j]) - ((j - 1) < 0 ? 0 : u[i * m + (j - 1)]) - \\\n",
    "                ((j + 1) > (m - 1) ? 0 : u[i * m + (j + 1)]);\n",
    "                \n",
    "            v[i * m + j] /= (h * h);\n",
    "       }\n",
    "        \"\"\").build()\n",
    "        \n",
    "        # Create Buffer\n",
    "        self.dtype = u.dtype\n",
    "        u_g = cl.Buffer(ctx, mf.READ_ONLY, size = self.shape[0] * np.dtype(np.float32).itemsize)\n",
    "        v = np.zeros((self.shape[0]), dtype=np.float32)\n",
    "        v_g = cl.Buffer(ctx, mf.WRITE_ONLY, size = self.shape[0] * np.dtype(np.float32).itemsize)\n",
    "        \n",
    "        cl.enqueue_copy(queue, u_g, u)\n",
    "        \n",
    "        # Run the OpenCL program\n",
    "        self.prg.stencil(queue, (self.m, self.m), (1, 1), np.int32(self.m), \\\n",
    "                         np.float32(1.0 / (self.m - 1)), u_g, v_g)\n",
    "        \n",
    "        # Copy the result to v\n",
    "        cl.enqueue_copy(queue, v, v_g)\n",
    "        \n",
    "        return v"
   ]
  },
  {
   "cell_type": "markdown",
   "metadata": {},
   "source": [
    "### For different values of M plot the convergence curve of the residual r\n",
    "\n",
    "**Here, we use CG iterative solver in Scipy to acquire the residual r in each iteration for different values of M. At the same time, the right-hand side function is set as f = 1**"
   ]
  },
  {
   "cell_type": "code",
   "execution_count": 44,
   "metadata": {},
   "outputs": [
    {
     "name": "stdout",
     "output_type": "stream",
     "text": [
      "(array([0.00096723, 0.00172572, 0.00235818, ..., 0.00235805, 0.00172574,\n",
      "       0.00096724], dtype=float32), 460)\n",
      "(array([0.0001364 , 0.00024926, 0.00034843, ..., 0.00034863, 0.00024922,\n",
      "       0.00013639], dtype=float32), 460)\n",
      "(array([5.3978907e-05, 9.9717523e-05, 1.4048198e-04, ..., 1.4072712e-04,\n",
      "       9.9764788e-05, 5.3917211e-05], dtype=float32), 460)\n",
      "(array([4.07818625e-05, 7.64785436e-05, 1.10316716e-04, ...,\n",
      "       1.11223235e-04, 7.83712167e-05, 4.18878626e-05], dtype=float32), 460)\n",
      "(array([3.8746522e-05, 6.5550477e-05, 9.8136821e-05, ..., 9.7972756e-05,\n",
      "       6.6070512e-05, 4.0164057e-05], dtype=float32), 460)\n"
     ]
    }
   ],
   "source": [
    "# Define the function of callback to save residuals, change the value of M.\n",
    "M_list = [50, 150, 250, 350, 450]\n",
    "\n",
    "def callback(xj):\n",
    "    data.append(np.linalg.norm(b - A * xj) / np.linalg.norm(b))\n",
    "\n",
    "data_all = []\n",
    "data = []\n",
    "\n",
    "for M in M_list:\n",
    "    A = StencilOperatorOpenCL(M)\n",
    "    data.clear()\n",
    "    u = np.full((M, M), 5, np.float32)    \n",
    "    x0 = u.flatten()\n",
    "    b = np.ones((M * M), np.float32)\n",
    "    res = cg(StencilOperatorOpenCL(M), b, x0, 1e-5, 460, callback = callback)\n",
    "    print(res)\n",
    "    data_all.append(data.copy())"
   ]
  },
  {
   "cell_type": "markdown",
   "metadata": {},
   "source": [
    "From the picture below, we find that the smaller the value of M is, the faster the convergence is."
   ]
  },
  {
   "cell_type": "code",
   "execution_count": 45,
   "metadata": {},
   "outputs": [
    {
     "data": {
      "image/png": "[encoded data removed]",
      "text/plain": [
       "<Figure size 432x288 with 1 Axes>"
      ]
     },
     "metadata": {
      "needs_background": "light"
     },
     "output_type": "display_data"
    }
   ],
   "source": [
    "# Use a semilogy plot\n",
    "for i, M in enumerate(M_list):\n",
    "    plt.semilogy(np.arange(460), data_all[i], label='M = {}'.format(M))\n",
    "\n",
    "plt.xlabel('the number of iterations')\n",
    "plt.ylabel('r')\n",
    "plt.legend(bbox_to_anchor = (1.4, 0.8))\n",
    "\n",
    "plt.show()"
   ]
  },
  {
   "cell_type": "markdown",
   "metadata": {},
   "source": [
    "### Investigate how the number of iterations grows as M increases"
   ]
  },
  {
   "cell_type": "code",
   "execution_count": 54,
   "metadata": {},
   "outputs": [
    {
     "name": "stdout",
     "output_type": "stream",
     "text": [
      "[120, 265, 411, 460, 460]\n"
     ]
    },
    {
     "data": {
      "image/png": "[encoded data removed]",
      "text/plain": [
       "<Figure size 432x288 with 1 Axes>"
      ]
     },
     "metadata": {
      "needs_background": "light"
     },
     "output_type": "display_data"
    }
   ],
   "source": [
    "# Define a function used to find best iteration of each M\n",
    "def best_iteration(data):\n",
    "    data = np.array(data)\n",
    "    diff = abs((data[1:] - data[:-1]) / data[:-1])\n",
    "    for i, ele in enumerate(diff):\n",
    "        if ele < 1e-5:\n",
    "            return i + 1\n",
    "    return len(data)\n",
    "\n",
    "iterations = []\n",
    "\n",
    "for data in data_all[:5]:\n",
    "    iterations.append(best_iteration(data))\n",
    "print(iterations)\n",
    "# Plot\n",
    "plt.plot(M_list, iterations)\n",
    "plt.xlabel(\"M\")\n",
    "plt.ylabel(\"the number of iterations\")\n",
    "\n",
    "plt.show()"
   ]
  },
  {
   "cell_type": "markdown",
   "metadata": {},
   "source": [
    "### Produce nice plots of the solution u on the unit square"
   ]
  },
  {
   "cell_type": "code",
   "execution_count": 55,
   "metadata": {},
   "outputs": [
    {
     "name": "stdout",
     "output_type": "stream",
     "text": [
      "(array([0.00096676, 0.00172561, 0.00235811, ..., 0.00235802, 0.00172542,\n",
      "       0.00096686], dtype=float32), 120)\n"
     ]
    }
   ],
   "source": [
    "def plot(m, n, data):\n",
    "    M = range(m)\n",
    "    N = range(n)\n",
    "    M, N = np.meshgrid(M, N)\n",
    "    z = data[M, N]\n",
    "    all_image.append(z)\n",
    "\n",
    "M = 50\n",
    "\n",
    "u = np.full((M, M), 5, dtype=np.float32)\n",
    "b = np.ones((M * M), dtype=np.float32)\n",
    "\n",
    "# Control the output and store required nice plots\n",
    "cnt = 0\n",
    "all_image = []\n",
    "\n",
    "def solution(xj):\n",
    "    global cnt\n",
    "    cnt += 1\n",
    "    if cnt % 10 == 0:    \n",
    "        data = xj.reshape(M, M)\n",
    "        plot(M, M, data)\n",
    "    \n",
    "solution = cg(StencilOperatorOpenCL(M), b, x0 = u.flatten(), maxiter = 120, callback = solution)\n",
    "print(solution)"
   ]
  },
  {
   "cell_type": "code",
   "execution_count": 57,
   "metadata": {},
   "outputs": [
    {
     "data": {
      "image/png": "[encoded data removed]",
      "text/plain": [
       "<Figure size 432x288 with 6 Axes>"
      ]
     },
     "metadata": {
      "needs_background": "light"
     },
     "output_type": "display_data"
    }
   ],
   "source": [
    "# plot the solution\n",
    "fig = plt.figure()\n",
    "plt.subplot(231)\n",
    "plt.imshow(all_image[0])\n",
    "plt.subplot(232)\n",
    "plt.imshow(all_image[1])\n",
    "plt.subplot(233)\n",
    "plt.imshow(all_image[2])\n",
    "plt.subplot(234)\n",
    "plt.imshow(all_image[3])\n",
    "plt.subplot(235)\n",
    "plt.imshow(all_image[4])\n",
    "plt.subplot(236)\n",
    "plt.imshow(all_image[11])\n",
    "plt.show()"
   ]
  },
  {
   "cell_type": "code",
   "execution_count": 51,
   "metadata": {},
   "outputs": [
    {
     "data": {
      "text/plain": [
       "15"
      ]
     },
     "execution_count": 51,
     "metadata": {},
     "output_type": "execute_result"
    }
   ],
   "source": [
    "len(all_image)"
   ]
  },
  {
   "cell_type": "code",
   "execution_count": null,
   "metadata": {},
   "outputs": [],
   "source": []
  }
 ],
 "metadata": {
  "kernelspec": {
   "display_name": "Python 3",
   "language": "python",
   "name": "python3"
  },
  "language_info": {
   "codemirror_mode": {
    "name": "ipython",
    "version": 3
   },
   "file_extension": ".py",
   "mimetype": "text/x-python",
   "name": "python",
   "nbconvert_exporter": "python",
   "pygments_lexer": "ipython3",
   "version": "3.7.4"
  }
 },
 "nbformat": 4,
 "nbformat_minor": 4
}
