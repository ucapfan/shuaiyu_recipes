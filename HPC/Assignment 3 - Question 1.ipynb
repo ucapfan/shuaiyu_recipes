{
 "cells": [
  {
   "cell_type": "markdown",
   "metadata": {},
   "source": [
    "# Assignment 3\n",
    "## Question 1: Investigating splitting schemes\n",
    "\n",
    "**We consider the Laplace problem −∆u(x, y) = 0 for x, y ∈ [0, 1]^2 and boundary conditions u(x, 0) = 1, u(0, y) = u(1, y) = u(x, 1) = 0. We consider a usual discretistaion of this prob- lem in terms of a 5 point finite difference stencil, leading to the linear system of equations Ax = b, where b encodes the boundary data and A represents the discrete Laplacian operator. We want to investigate solving this problem in different ways.**"
   ]
  },
  {
   "cell_type": "code",
   "execution_count": 24,
   "metadata": {},
   "outputs": [],
   "source": [
    "import numpy\n",
    "import numba\n",
    "import pyopencl as cl\n",
    "import logging\n",
    "\n",
    "%matplotlib inline"
   ]
  },
  {
   "cell_type": "markdown",
   "metadata": {},
   "source": [
    "### For Jacobi Iteration: We note that a single step of Jacobi iteration for this example at an interior point uij consists of taking the average of taking the values at all the neighboring nodes.\n",
    "* First, we consider the Jacobi Iteration. Clearly, whatever if there is bound point in the five-module of every point, the formula is the same. \n",
    "* Then we use a “kernel” function to renew all variables in one step. But there is a problem that is we will also update the bound points’ variables. So after one step of Jacobi Iteration, we will initialize the bound points’ value again. \n",
    "* Moreover, we will store the relative residual in each step for drawing a convergence figure."
   ]
  },
  {
   "cell_type": "markdown",
   "metadata": {},
   "source": [
    "**The OpenCL Kernel have some parameters: __global float *u, __global float *c, __global float *r, __global const int *num_x, __global const int *num_y, which are all stored in global memory.**"
   ]
  },
  {
   "cell_type": "code",
   "execution_count": 25,
   "metadata": {},
   "outputs": [],
   "source": [
    "# 1.1  pyopencl\n",
    "#Create a GPU specific context and command queue\n",
    "#ctx = cl.create_some_context()\n",
    "ctx = cl.Context(dev_type = cl.device_type.GPU)\n",
    "queue = cl.CommandQueue(ctx, properties=cl.command_queue_properties.PROFILING_ENABLE)\n",
    "mf = cl.mem_flags\n",
    "\n",
    "# Core functions: retrieve the row and column indexes from the global id\n",
    "prg = cl.Program(ctx, \"\"\"\n",
    "__kernel void test(__global float *u, __global float *c, __global float *r, __global const int *num_x, \\\n",
    "    __global const int *num_y) \n",
    "{\n",
    "    int n_x = num_x[0];int n_y = num_y[0];\n",
    "    float h_x = (1.0/n_x)*(1.0/n_x);float h_y = (1.0/n_y)*(1.0/n_y);\n",
    "    size_t i = get_global_id(0);\n",
    "    \n",
    "    c[i] = (1/h_y*u[i-1] + 1/h_x*u[i-n_y-1] + 1/h_x*u[i+n_y+1] + 1/h_y*u[i+1])/(2/h_x+2/h_y);\n",
    "    r[i] = (1/h_y*u[i-1] + 1/h_x*u[i-n_y-1] + 1/h_x*u[i+(n_y+1)] + 1/h_y*u[i+1] - 2*u[i]/(h_x+h_y))* \\\n",
    "           (1/h_y*u[i-1] + 1/h_x*u[i-n_y-1] + 1/h_x*u[i+(n_y+1)] + 1/h_y*u[i+1] - 2*u[i]*(1/h_x+1/h_y));\n",
    "}\n",
    "\"\"\").build()"
   ]
  },
  {
   "cell_type": "code",
   "execution_count": 26,
   "metadata": {},
   "outputs": [],
   "source": [
    "num_x = num_y = 50;h_x=(1/num_x)*(1/num_x);h_y=(1/num_y)*(1/num_y)\n",
    "step = 100\n",
    "list_c = [0]*(num_x+1)*(num_y+1)\n",
    "for j in range(num_y+1):\n",
    "    list_c[j] = 0\n",
    "    list_c[num_x*(num_y+1)+j] = 0\n",
    "for i in range(num_x+1):\n",
    "    list_c[i*(num_y+1)+num_y] = 0\n",
    "    list_c[i*(num_y+1)] = 1\n",
    "b_2 = 0;u = list_c;n_x = num_x;n_y = num_y\n",
    "for i in range(n_x-1):#i->1,n_x-1;j->1,n_y-1\n",
    "    i = i+1\n",
    "    for j in range(n_y-1):\n",
    "        j = j + 1\n",
    "        b_v = (1/h_y)*u[i*(n_y+1)+j-1] + (1/h_x)*u[(i-1)*(n_y+1)+j] + (1/h_x)*u[(i+1)*(n_y+1)+j] \\\n",
    "                 + (1/h_y)*u[i*(n_y+1)+j+1] - 2*u[i*(n_y+1)+j]*(1/h_x+1/h_y)\n",
    "        b_2 = b_v**2 + b_2 \n",
    "\n",
    "c = numpy.array(list_c,dtype=numpy.float32)\n",
    "n_x = numpy.array([n_x],dtype=numpy.int)\n",
    "n_y = numpy.array([n_y],dtype=numpy.int)\n",
    "r = numpy.array(list_c,dtype=numpy.float32)\n",
    "r_v = numpy.empty(len(list_c),dtype=numpy.float32)\n",
    "#u = numpy.array(range(50),dtype=numpy.float32)\n",
    "list_r = []\n",
    "\n",
    "for i in range(step):\n",
    "    u = c.copy()\n",
    "    u_buf = cl.Buffer(ctx, mf.READ_ONLY | mf.COPY_HOST_PTR, hostbuf=u)\n",
    "    c_buf = cl.Buffer(ctx, mf.READ_ONLY | mf.COPY_HOST_PTR, hostbuf=c)\n",
    "    r_buf = cl.Buffer(ctx, mf.READ_ONLY | mf.COPY_HOST_PTR, hostbuf=r)\n",
    "    x_buf = cl.Buffer(ctx, mf.READ_ONLY | mf.COPY_HOST_PTR, hostbuf=n_x)\n",
    "    y_buf = cl.Buffer(ctx, mf.READ_ONLY | mf.COPY_HOST_PTR, hostbuf=n_y)\n",
    "    \n",
    "    prg.test(queue, [r.size], None, u_buf, c_buf, r_buf, x_buf, y_buf)\n",
    "    cl.enqueue_copy(queue, c, c_buf)\n",
    "    cl.enqueue_copy(queue, r_v, r_buf)\n",
    "\n",
    "    for j in range(num_y+1):\n",
    "        r_v[j] = 0;c[j] = 0\n",
    "        r_v[num_x*(num_y+1)+j] = 0;c[num_x*(num_y+1)+j] = 0\n",
    "    for i in range(num_x+1):\n",
    "        r_v[i*(num_y+1)+num_y] = 0;c[i*(num_y+1)+num_y] = 0\n",
    "        r_v[i*(num_y+1)] = 0;c[i*(num_y+1)] = 1\n",
    "    list_r.append(sum(r_v)/b_2)"
   ]
  },
  {
   "cell_type": "markdown",
   "metadata": {},
   "source": [
    "### Plot the convergence curve of Jacobi"
   ]
  },
  {
   "cell_type": "code",
   "execution_count": 27,
   "metadata": {
    "scrolled": true
   },
   "outputs": [
    {
     "data": {
      "image/png": "[encoded data removed]",
      "text/plain": [
       "<Figure size 432x288 with 1 Axes>"
      ]
     },
     "metadata": {
      "needs_background": "light"
     },
     "output_type": "display_data"
    }
   ],
   "source": [
    "import matplotlib\n",
    "import matplotlib.pyplot as plt\n",
    "plt.plot(range(0,step,1),list_r,'r',label='convergence')\n",
    "plt.legend()\n",
    "plt.show()"
   ]
  },
  {
   "cell_type": "markdown",
   "metadata": {},
   "source": [
    "### For Gauss-Seidel iteration: we implement three different iteration as the requirement from our assignment.\n",
    "* What it is about the “parallel” one is to use previous values, equivalently, use the back-one-step value. The difference between this part and the first part is just to modify the formula in the “opencl” segment. In details, we replace back-one-step values with the values of the right and the up point. \n",
    "* For the normal iteration, the standard one is bottom-to-up method. We implement this one with the standard implementation. \n",
    "* And for the up-to-bottom one, we obtain it from the “bottom-to-up one” by changing the row index i to n - i -1."
   ]
  },
  {
   "cell_type": "markdown",
   "metadata": {},
   "source": [
    "**Noting that Gauss-Seidel works almost the same way as Jacobi. Here we implement a relaxed version of Gauss-Seidel by updating a single row in parallel and using updated values from the previous row. This allows paralellisation across a single row.**"
   ]
  },
  {
   "cell_type": "code",
   "execution_count": 28,
   "metadata": {},
   "outputs": [],
   "source": [
    "# 1.2-parallel  pyopencl\n",
    "num_x = num_y = 50;h_x=(1/num_x)*(1/num_x);h_y=(1/num_y)*(1/num_y)\n",
    "step = 100\n",
    "list_c = [0]*(num_x+1)*(num_y+1)\n",
    "for j in range(num_y+1):\n",
    "    list_c[j] = 0\n",
    "    list_c[num_x*(num_y+1)+j] = 0\n",
    "for i in range(num_x+1):\n",
    "    list_c[i*(num_y+1)+num_y] = 0\n",
    "    list_c[i*(num_y+1)] = 1\n",
    "#||b||\n",
    "b_2 = 0;u = list_c;n_x = num_x;n_y = num_y\n",
    "for i in range(n_x-1):#i->1,n_x-1;j->1,n_y-1\n",
    "    i = i+1\n",
    "    for j in range(n_y-1):\n",
    "        j = j + 1\n",
    "        b_v = (1/h_y)*u[i*(n_y+1)+j-1] + (1/h_x)*u[(i-1)*(n_y+1)+j] + (1/h_x)*u[(i+1)*(n_y+1)+j] \\\n",
    "                 + (1/h_y)*u[i*(n_y+1)+j+1] - 2*u[i*(n_y+1)+j]*(1/h_x+1/h_y)\n",
    "        b_2 = b_v**2 + b_2 \n",
    "c = numpy.array(list_c,dtype=numpy.float32)\n",
    "n_x = numpy.array([n_x],dtype=numpy.int)\n",
    "n_y = numpy.array([n_y],dtype=numpy.int)\n",
    "r = numpy.array(list_c,dtype=numpy.float32)\n",
    "r_v = numpy.empty(len(list_c),dtype=numpy.float32)\n",
    "\n",
    "# Core functions: retrieve the row and column indexes from the global id \n",
    "prg = cl.Program(ctx, \"\"\"\n",
    "__kernel void test(__global float *u_p, __global float *u, __global float *c, __global float *r, \\\n",
    "    __global const int *num_x, __global const int *num_y) \n",
    "{\n",
    "    int n_x = num_x[0];int n_y = num_y[0];\n",
    "    float h_x = (1.0/n_x)*(1.0/n_x);float h_y = (1.0/n_y)*(1.0/n_y);\n",
    "    size_t i = get_global_id(0);\n",
    "    \n",
    "    c[i] = (1/h_y*u_p[i-1] + 1/h_x*u_p[i-n_y-1] + 1/h_x*u[i+n_y+1] + 1/h_y*u[i+1])/(2/h_x+2/h_y);\n",
    "    r[i] = (1/h_y*u[i-1] + 1/h_x*u[i-n_y-1] + 1/h_x*u[i+(n_y+1)] + 1/h_y*u[i+1] - 2*u[i]/(h_x+h_y))* \\\n",
    "           (1/h_y*u[i-1] + 1/h_x*u[i-n_y-1] + 1/h_x*u[i+(n_y+1)] + 1/h_y*u[i+1] - 2*u[i]*(1/h_x+1/h_y));\n",
    "}\n",
    "\"\"\").build()\n",
    "\n",
    "list_r = [];u = c.copy()\n",
    "for i in range(step):\n",
    "    u_p = u.copy();u = c.copy()\n",
    "    u_buf = cl.Buffer(ctx, mf.READ_ONLY | mf.COPY_HOST_PTR, hostbuf=u)\n",
    "    c_buf = cl.Buffer(ctx, mf.READ_ONLY | mf.COPY_HOST_PTR, hostbuf=c)\n",
    "    u_pbuf = cl.Buffer(ctx, mf.READ_ONLY | mf.COPY_HOST_PTR, hostbuf=u_p)\n",
    "    r_buf = cl.Buffer(ctx, mf.READ_ONLY | mf.COPY_HOST_PTR, hostbuf=r)\n",
    "    x_buf = cl.Buffer(ctx, mf.READ_ONLY | mf.COPY_HOST_PTR, hostbuf=n_x)\n",
    "    y_buf = cl.Buffer(ctx, mf.READ_ONLY | mf.COPY_HOST_PTR, hostbuf=n_y)\n",
    "    prg.test(queue, [r.size], None, u_pbuf, u_buf, c_buf, r_buf, x_buf, y_buf)\n",
    "    cl.enqueue_copy(queue, c, c_buf)\n",
    "    cl.enqueue_copy(queue, r_v, r_buf)\n",
    "    for j in range(num_y+1):\n",
    "        r_v[j] = 0;c[j] = 0\n",
    "        r_v[num_x*(num_y+1)+j] = 0;c[num_x*(num_y+1)+j] = 0;\n",
    "    for i in range(num_x+1):\n",
    "        r_v[i*(num_y+1)+num_y] = 0;c[i*(num_y+1)+num_y] = 0\n",
    "        r_v[i*(num_y+1)] = 0;c[i*(num_y+1)] = 1\n",
    "    list_r.append(sum(r_v)/b_2)"
   ]
  },
  {
   "cell_type": "markdown",
   "metadata": {},
   "source": [
    "### Implement two different schemes of evaluating one step of Gauss-Seidel. \n",
    "* 1) Start with the nodes at the bottom of the square and proceed line by line to the top. \n",
    "* 2) Start at the top and proceed line by line to the bottom. Present results for both schemes.\n",
    "* Implement a Numba accelerated version of Gauss-Seidel."
   ]
  },
  {
   "cell_type": "code",
   "execution_count": 29,
   "metadata": {},
   "outputs": [],
   "source": [
    "# 1.2-standard\n",
    "# This function implements a bottom to top interation\n",
    "def G_stepone_bottom_to_top(list_u,n_x,n_y):\n",
    "    h_x = (1/n_x)**2;h_y = (1/n_y)**2;d = 0;u = list_u\n",
    "    for i in range(n_x-1):\n",
    "        i = i + 1\n",
    "        for j in range(n_y-1):\n",
    "            j = j + 1\n",
    "            d = d + (1/h_y*u[i*(n_y+1)+j-1] + 1/h_x*u[i*(n_y+1)+j-n_y-1] + 1/h_x*u[i*(n_y+1)+j+(n_y+1)] \\\n",
    "                     + 1/h_y*u[i*(n_y+1)+j+1] - 2*u[i*(n_y+1)+j]*(1/h_x+1/h_y))**2\n",
    "            u[i*(n_y+1)+j] = (1/h_y*u[i*(n_y+1)+j-1] + 1/h_x*u[(i-1)*(n_y+1)+j] + \n",
    "                              1/h_x*u[(i+1)*(n_y+1)+j] + 1/h_y*u[i*(n_y+1)+j+1])/(2/h_x+2/h_y);\n",
    "    return d\n",
    "\n",
    "# This function implements a top to bottom interation\n",
    "def G_stepone_top_to_bottom(list_u,n_x,n_y):\n",
    "    h_x = (1/n_x)**2;h_y = (1/n_y)**2;d = 0;u = list_u\n",
    "    for i in range(n_x-1):\n",
    "        i = n_x-(i + 1)\n",
    "        for j in range(n_y-1):\n",
    "            j = j + 1\n",
    "            d = d + (1/h_y*u[i*(n_y+1)+j-1] + 1/h_x*u[i*(n_y+1)+j-n_y-1] + 1/h_x*u[i*(n_y+1)+j+(n_y+1)] \\\n",
    "                     + 1/h_y*u[i*(n_y+1)+j+1] - 2*u[i*(n_y+1)+j]*(1/h_x+1/h_y))**2\n",
    "            u[i*(n_y+1)+j] = (1/h_y*u[i*(n_y+1)+j-1] + 1/h_x*u[(i-1)*(n_y+1)+j] + \n",
    "                              1/h_x*u[(i+1)*(n_y+1)+j] + 1/h_y*u[i*(n_y+1)+j+1])/(2/h_x+2/h_y);\n",
    "    return d\n",
    "\n",
    "list_u = [0]*(num_x+1)*(num_y+1);list_b = [];list_t = []\n",
    "for j in range(num_y+1):\n",
    "    list_u[j] = 0\n",
    "    list_u[num_x*(num_y+1)+j] = 0\n",
    "for i in range(num_x+1):\n",
    "    list_u[i*(num_y+1)+num_y] = 0\n",
    "    list_u[i*(num_y+1)] = 1\n",
    "list_bv = list_u.copy();list_tv = list_u.copy()\n",
    "for i in range(step):\n",
    "    d = G_stepone_bottom_to_top(list_bv,num_x,num_y)\n",
    "    list_b.append(d/b_2)\n",
    "    d = G_stepone_top_to_bottom(list_tv,num_x,num_y)\n",
    "    list_t.append(d/b_2)"
   ]
  },
  {
   "cell_type": "markdown",
   "metadata": {},
   "source": [
    "**We implements Gauss-Seidel iterations in two ways (both bottom to top and top to bottom). And also we use the @njit decorator in Numba to improve performance (just-in-time compilation).** "
   ]
  },
  {
   "cell_type": "code",
   "execution_count": 30,
   "metadata": {},
   "outputs": [],
   "source": [
    "# 1.2-standard-using numba to accelerate\n",
    "@numba.jit\n",
    "# This function implements a bottom to top interation\n",
    "def G_stepone_bottom_to_top(list_u,n_x,n_y):\n",
    "    h_x = (1/n_x)**2;h_y = (1/n_y)**2;d = 0;u = list_u\n",
    "    for i in range(n_x-1):\n",
    "        i = i + 1\n",
    "        for j in range(n_y-1):\n",
    "            j = j + 1\n",
    "            b_v = (1/h_y)*u[i*(n_y+1)+j-1] + (1/h_x)*u[(i-1)*(n_y+1)+j] + (1/h_x)*u[(i+1)*(n_y+1)+j] \\\n",
    "                 + (1/h_y)*u[i*(n_y+1)+j+1] - 2*u[i*(n_y+1)+j]*(1/h_x+1/h_y)\n",
    "            d = b_v**2 + d\n",
    "    for i in range(n_x-1):\n",
    "        i = i + 1\n",
    "        for j in range(n_y-1):\n",
    "            j = j + 1\n",
    "            u[i*(n_y+1)+j] = (1/h_y*u[i*(n_y+1)+j-1] + 1/h_x*u[(i-1)*(n_y+1)+j] + \n",
    "                              1/h_x*u[(i+1)*(n_y+1)+j] + 1/h_y*u[i*(n_y+1)+j+1])/(2/h_x+2/h_y);\n",
    "    return d\n",
    "\n",
    "@numba.jit\n",
    "# This function implements a top to bottom interation\n",
    "def G_stepone_top_to_bottom(list_u,n_x,n_y):\n",
    "    h_x = (1/n_x)**2;h_y = (1/n_y)**2;d = 0;u = list_u\n",
    "    for i in range(n_x-1):\n",
    "        i = i + 1\n",
    "        for j in range(n_y-1):\n",
    "            j = j + 1\n",
    "            b_v = (1/h_y)*u[i*(n_y+1)+j-1] + (1/h_x)*u[(i-1)*(n_y+1)+j] + (1/h_x)*u[(i+1)*(n_y+1)+j] \\\n",
    "                 + (1/h_y)*u[i*(n_y+1)+j+1] - 2*u[i*(n_y+1)+j]*(1/h_x+1/h_y)\n",
    "            d = b_v**2 + d\n",
    "    for i in range(n_x-1):\n",
    "        i = n_x-(i + 1)\n",
    "        for j in range(n_y-1):\n",
    "            j = j + 1\n",
    "            u[i*(n_y+1)+j] = (1/h_y*u[i*(n_y+1)+j-1] + 1/h_x*u[(i-1)*(n_y+1)+j] + \n",
    "                              1/h_x*u[(i+1)*(n_y+1)+j] + 1/h_y*u[i*(n_y+1)+j+1])/(2/h_x+2/h_y);\n",
    "    return d\n",
    "\n",
    "list_u = [0]*(num_x+1)*(num_y+1);list_b = [];list_t = []\n",
    "for j in range(num_y+1):\n",
    "    list_u[j] = 0\n",
    "    list_u[num_x*(num_y+1)+j] = 0\n",
    "for i in range(num_x+1):\n",
    "    list_u[i*(num_y+1)+num_y] = 0\n",
    "    list_u[i*(num_y+1)] = 1\n",
    "list_bv = numpy.array(list_u.copy(),dtype=numpy.float32);list_tv = numpy.array(list_u.copy(),dtype=numpy.float32)\n",
    "for i in range(step):\n",
    "    d = G_stepone_bottom_to_top(list_bv,num_x,num_y)\n",
    "    list_b.append(d/b_2)\n",
    "    d = G_stepone_top_to_bottom(list_tv,num_x,num_y)\n",
    "    list_t.append(d/b_2)"
   ]
  },
  {
   "cell_type": "markdown",
   "metadata": {},
   "source": [
    "### Plot the convergence curve of Gauss-Seidel\n",
    "* Plot both the convergence curve of this scheme with OpenCL and standard Gauss-Seidel in one picture\n",
    "* We find that the standard Gauss-Seidel convergences faster than the OpenCL one\n",
    "* And there is some overlap here between bottom-to-top convergence and top-to-bottom convergence, which means that the results of using these two methods are similar"
   ]
  },
  {
   "cell_type": "code",
   "execution_count": 35,
   "metadata": {},
   "outputs": [
    {
     "data": {
      "image/png": "[encoded data removed]",
      "text/plain": [
       "<Figure size 432x288 with 1 Axes>"
      ]
     },
     "metadata": {
      "needs_background": "light"
     },
     "output_type": "display_data"
    }
   ],
   "source": [
    "import matplotlib\n",
    "import matplotlib.pyplot as plt\n",
    "import pylab\n",
    "plt.plot(range(0,step,1),list_r,'r',label='relax-convergence')\n",
    "plt.plot(range(0,step,1),list_b,'g',label='bottom-to-top-convergence')\n",
    "plt.plot(range(0,step,1),list_t,'y--',label='top-to-bottom-convergence')\n",
    "plt.legend()\n",
    "plt.show()"
   ]
  },
  {
   "cell_type": "code",
   "execution_count": null,
   "metadata": {},
   "outputs": [],
   "source": []
  }
 ],
 "metadata": {
  "kernelspec": {
   "display_name": "Python 3",
   "language": "python",
   "name": "python3"
  },
  "language_info": {
   "codemirror_mode": {
    "name": "ipython",
    "version": 3
   },
   "file_extension": ".py",
   "mimetype": "text/x-python",
   "name": "python",
   "nbconvert_exporter": "python",
   "pygments_lexer": "ipython3",
   "version": "3.7.4"
  }
 },
 "nbformat": 4,
 "nbformat_minor": 2
}
